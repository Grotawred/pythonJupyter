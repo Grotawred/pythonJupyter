{
 "cells": [
  {
   "cell_type": "code",
   "execution_count": 137,
   "metadata": {},
   "outputs": [],
   "source": [
    "class User:\n",
    "    def __init__(self, VPN, amount_of_transactions, transactions_per_hour, hacker, type_A, type_B, type_C, type_D):\n",
    "        self.VPN = VPN\n",
    "        self.amount_of_transactions = amount_of_transactions\n",
    "        self.transactions_per_hour = transactions_per_hour\n",
    "        self.hacker = hacker\n",
    "        self.type_A = type_A\n",
    "        self.type_B = type_B\n",
    "        self.type_C = type_C\n",
    "        self.type_D = type_D\n",
    "\n",
    "    def get_VPN(self):\n",
    "        return self.VPN\n",
    "    def get_Amount_Of_Transactions(self):\n",
    "        return self.amount_of_transactions\n",
    "    def get_Transactions_Per_Hour(self):\n",
    "        return self.transactions_per_hour\n",
    "    def get_Type_A(self):\n",
    "        return self.type_A\n",
    "    def get_Type_B(self):\n",
    "        return self.type_B\n",
    "    def get_Type_C(self):\n",
    "        return self.type_C\n",
    "    def get_Type_D(self):\n",
    "        return self.type_D\n",
    "    def set_Amount_Of_TRansactions(self, amount):\n",
    "        self.amount_of_transactions = amount\n",
    "    def set_Transactions_Per_Hour(self, transaction):\n",
    "        self.transactions_per_hour = transaction\n",
    "    \n",
    "    def toString(self):\n",
    "        text = \"VPN : {}, Amount of transaction: {}, Transactions per hour: {}, Hacker: {}, TypeA: {}, TypeB {}, TypeC {}, TypeD {}\"\n",
    "        return text.format(self.get_VPN(), self.get_Amount_Of_Transactions(), self.get_Transactions_Per_Hour(), self.hacker, self.get_Type_A(), self.get_Type_B(), self.get_Type_C(), self.get_Type_D())\n",
    "    "
   ]
  },
  {
   "cell_type": "code",
   "execution_count": 138,
   "metadata": {},
   "outputs": [],
   "source": [
    "users = [User(0, 100, 1, 0, 1, 0, 0, 0), \n",
    "         User(1, 1000, 5, 1, 0, 1, 0, 0),\n",
    "         User(0, 50, 2, 0, 0, 0, 1, 0),\n",
    "         User(1, 1200, 10, 1, 0, 0, 0, 1),\n",
    "         User(0, 150, 1, 0, 1, 0, 0, 0),\n",
    "         User(1, 750, 4, 1, 0, 1, 0, 0)]"
   ]
  },
  {
   "cell_type": "code",
   "execution_count": 139,
   "metadata": {},
   "outputs": [],
   "source": [
    "def get_Arrays(users):\n",
    "    array_of_amount_of_transactions = []\n",
    "    array_of_transactions_per_hour = []\n",
    "    for user in users:\n",
    "        array_of_amount_of_transactions.append(user.get_Amount_Of_Transactions())\n",
    "        array_of_transactions_per_hour.append(user.get_Transactions_Per_Hour())\n",
    "    return array_of_amount_of_transactions, array_of_transactions_per_hour;\n"
   ]
  },
  {
   "cell_type": "code",
   "execution_count": 140,
   "metadata": {},
   "outputs": [],
   "source": [
    "def normilize(number, minNumber, maxNumber):\n",
    "    return (number - minNumber) / (maxNumber - minNumber);"
   ]
  },
  {
   "cell_type": "code",
   "execution_count": 141,
   "metadata": {},
   "outputs": [],
   "source": [
    "def normalize_Users():\n",
    "    amountOfTransactionsArray, transactionPerHourArray = get_Arrays(users) \n",
    "    for i in range(len(amountOfTransactionsArray)):\n",
    "        users[i].set_Amount_Of_TRansactions(normilize(amountOfTransactionsArray[i], min(amountOfTransactionsArray), max(amountOfTransactionsArray)))\n",
    "    for i in range(len(transactionPerHourArray)):\n",
    "        users[i].set_Transactions_Per_Hour(normilize(transactionPerHourArray[i], min(transactionPerHourArray), max(transactionPerHourArray)))\n",
    "    \n",
    "        \n"
   ]
  },
  {
   "cell_type": "code",
   "execution_count": 142,
   "metadata": {},
   "outputs": [
    {
     "name": "stdout",
     "output_type": "stream",
     "text": [
      "VPN : 0, Amount of transaction: 0.043478260869565216, Transactions per hour: 0.0, Hacker: 0, TypeA: 1, TypeB 0, TypeC 0, TypeD 0\n",
      "\n",
      "VPN : 1, Amount of transaction: 0.8260869565217391, Transactions per hour: 0.4444444444444444, Hacker: 1, TypeA: 0, TypeB 1, TypeC 0, TypeD 0\n",
      "\n",
      "VPN : 0, Amount of transaction: 0.0, Transactions per hour: 0.1111111111111111, Hacker: 0, TypeA: 0, TypeB 0, TypeC 1, TypeD 0\n",
      "\n",
      "VPN : 1, Amount of transaction: 1.0, Transactions per hour: 1.0, Hacker: 1, TypeA: 0, TypeB 0, TypeC 0, TypeD 1\n",
      "\n",
      "VPN : 0, Amount of transaction: 0.08695652173913043, Transactions per hour: 0.0, Hacker: 0, TypeA: 1, TypeB 0, TypeC 0, TypeD 0\n",
      "\n",
      "VPN : 1, Amount of transaction: 0.6086956521739131, Transactions per hour: 0.3333333333333333, Hacker: 1, TypeA: 0, TypeB 1, TypeC 0, TypeD 0\n",
      "\n"
     ]
    }
   ],
   "source": [
    "normalize_Users()\n",
    "for user in users:\n",
    "    print(user.toString() + \"\\n\")"
   ]
  },
  {
   "cell_type": "markdown",
   "metadata": {},
   "source": []
  },
  {
   "cell_type": "code",
   "execution_count": null,
   "metadata": {},
   "outputs": [],
   "source": []
  },
  {
   "cell_type": "code",
   "execution_count": null,
   "metadata": {},
   "outputs": [],
   "source": []
  }
 ],
 "metadata": {
  "kernelspec": {
   "display_name": "Python 3",
   "language": "python",
   "name": "python3"
  },
  "language_info": {
   "codemirror_mode": {
    "name": "ipython",
    "version": 3
   },
   "file_extension": ".py",
   "mimetype": "text/x-python",
   "name": "python",
   "nbconvert_exporter": "python",
   "pygments_lexer": "ipython3",
   "version": "3.9.12"
  },
  "orig_nbformat": 4
 },
 "nbformat": 4,
 "nbformat_minor": 2
}
