{
 "cells": [
  {
   "cell_type": "markdown",
   "id": "412b2945-0896-4135-9eeb-06dece5f5fe7",
   "metadata": {},
   "source": [
    "User model class for initialize data from dataset"
   ]
  },
  {
   "cell_type": "code",
   "execution_count": null,
   "id": "b798eef4-43df-4f94-b937-0cb254a61db1",
   "metadata": {},
   "outputs": [],
   "source": [
    "class User():\n",
    "    def __init__(self, VPN, transactionType, amountOfTransactions, transactionsPerHour, hacker):\n",
    "        self.VPN = VPN\n",
    "        self.transactionType = transactionType\n",
    "        self.amountOfTransactions = amountOfTransactions\n",
    "        self.transactionsPerHour = transactionsPerHour\n",
    "        self.hacker = hacker\n",
    "\n",
    "    def getVPN(self):\n",
    "        return self.VPN\n",
    "    def getTransactionType(self):\n",
    "        return self.transactionType\n",
    "    def getAmountOfTransactions(self):\n",
    "        return self.amountOfTransactions\n",
    "    def getTransactionsPerHour(self):\n",
    "        return self.transactionsPerHour\n"
   ]
  },
  {
   "cell_type": "markdown",
   "id": "c6bad07a",
   "metadata": {},
   "source": [
    "0\tA\t100.5\t1\t0\n",
    "1\tB\t1000.0\t5\t1\n",
    "0\tC\t50.0\t2\t0\n",
    "1\tD\t1200.0\t10\t1\n",
    "0\tA\t150.0\t1\t0\n",
    "1\tB\t750.0\t4\t1\n",
    "0\tC\t80.0\t3\t0\n",
    "1\tD\t900.0\t8\t1\n",
    "0\tB\t200.0\t2\t0\n",
    "1\tC\t600.0\t3\t0\n",
    "0\tA\t110.0\t1\t0\n",
    "1\tD\t950.0\t7\t1\n",
    "0\tC\t70.0\t2\t0\n",
    "1\tB\t700.0\t5\t1\n",
    "0\tD\t250.0\t3\t0\n",
    "1\tA\t800.0\t4\t0\n",
    "0\tB\t140.0\t2\t0\n",
    "1\tC\t650.0\t5\t1\n",
    "0\tD\t220.0\t3\t0\n",
    "1\tA\t850.0\t6\t1\n"
   ]
  },
  {
   "cell_type": "markdown",
   "id": "b7344735-3f6d-4445-b7a1-df0387489dca",
   "metadata": {},
   "source": [
    "Initialize data from dataset"
   ]
  },
  {
   "cell_type": "code",
   "execution_count": 8,
   "id": "ccbc3707",
   "metadata": {},
   "outputs": [],
   "source": [
    "users = [User(False, 'A', 100, 1, False), \n",
    "         User(True, 'B', 1000, 5, True),\n",
    "         User(False, 'C', 50, 2, False),\n",
    "         User(True, 'D', 1200, 10, True),\n",
    "         User(False, 'A', 150, 1, False),\n",
    "         User(True, 'B', 750, 4, True)]"
   ]
  },
  {
   "cell_type": "markdown",
   "id": "27d32405-568f-40e9-abdd-94433f885584",
   "metadata": {},
   "source": [
    "And logic which chek this user is hacker(True) or not hacker(False)"
   ]
  },
  {
   "cell_type": "markdown",
   "id": "4a1c97b6-5590-4186-b14a-4d6ab32336c5",
   "metadata": {},
   "source": [
    "user :User = users[0] \n",
    "\n",
    "if(user.getVPN()==False):\n",
    "    print(False)\n",
    "else:\n",
    "    if(user.getAmountOfTransactions() < 500):\n",
    "        print(False)\n",
    "    else:\n",
    "        if(user.getTransactionsPerHour() <= 3):\n",
    "            print(False)\n",
    "        else: \n",
    "            print(True)"
   ]
  }
 ],
 "metadata": {
  "kernelspec": {
   "display_name": "Python 3 (ipykernel)",
   "language": "python",
   "name": "python3"
  },
  "language_info": {
   "codemirror_mode": {
    "name": "ipython",
    "version": 3
   },
   "file_extension": ".py",
   "mimetype": "text/x-python",
   "name": "python",
   "nbconvert_exporter": "python",
   "pygments_lexer": "ipython3",
   "version": "3.9.12"
  }
 },
 "nbformat": 4,
 "nbformat_minor": 5
}
