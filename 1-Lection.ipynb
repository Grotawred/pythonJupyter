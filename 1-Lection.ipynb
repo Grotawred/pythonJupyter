{
 "cells": [
  {
   "cell_type": "markdown",
   "id": "412b2945-0896-4135-9eeb-06dece5f5fe7",
   "metadata": {},
   "source": [
    "User model class for initialize data from dataset"
   ]
  },
  {
   "cell_type": "code",
   "execution_count": null,
   "id": "b798eef4-43df-4f94-b937-0cb254a61db1",
   "metadata": {},
   "outputs": [],
   "source": [
    "class User:\n",
    "    def __init__(self, VPN, transaction_type, amount_of_transactions, transactions_per_hour, hacker):\n",
    "        self.VPN = VPN\n",
    "        self.transaction_type = transaction_type\n",
    "        self.amount_of_transactions = amount_of_transactions\n",
    "        self.transactions_per_hour = transactions_per_hour\n",
    "        self.hacker = hacker\n",
    "\n",
    "    def get_VPN(self):\n",
    "        return self.VPN\n",
    "    def get_transaction_type(self):\n",
    "        return self.transaction_type\n",
    "    def get_amount_of_transactions(self):\n",
    "        return self.amount_of_transactions\n",
    "    def get_transactions_per_hour(self):\n",
    "        return self.transactions_per_hour\n"
   ]
  },
  {
   "cell_type": "markdown",
   "id": "c6bad07a",
   "metadata": {},
   "source": [
    "0\tA\t100.5\t1\t0\n",
    "1\tB\t1000.0\t5\t1\n",
    "0\tC\t50.0\t2\t0\n",
    "1\tD\t1200.0\t10\t1\n",
    "0\tA\t150.0\t1\t0\n",
    "1\tB\t750.0\t4\t1\n",
    "0\tC\t80.0\t3\t0\n",
    "1\tD\t900.0\t8\t1\n",
    "0\tB\t200.0\t2\t0\n",
    "1\tC\t600.0\t3\t0\n",
    "0\tA\t110.0\t1\t0\n",
    "1\tD\t950.0\t7\t1\n",
    "0\tC\t70.0\t2\t0\n",
    "1\tB\t700.0\t5\t1\n",
    "0\tD\t250.0\t3\t0\n",
    "1\tA\t800.0\t4\t0\n",
    "0\tB\t140.0\t2\t0\n",
    "1\tC\t650.0\t5\t1\n",
    "0\tD\t220.0\t3\t0\n",
    "1\tA\t850.0\t6\t1\n"
   ]
  },
  {
   "cell_type": "markdown",
   "id": "b7344735-3f6d-4445-b7a1-df0387489dca",
   "metadata": {},
   "source": [
    "Initialize data from dataset"
   ]
  },
  {
   "cell_type": "code",
   "execution_count": 8,
   "id": "ccbc3707",
   "metadata": {},
   "outputs": [],
   "source": [
    "users = [User(False, 'A', 100, 1, False), \n",
    "         User(True, 'B', 1000, 5, True),\n",
    "         User(False, 'C', 50, 2, False),\n",
    "         User(True, 'D', 1200, 10, True),\n",
    "         User(False, 'A', 150, 1, False),\n",
    "         User(True, 'B', 750, 4, True)]"
   ]
  },
  {
   "cell_type": "markdown",
   "id": "27d32405-568f-40e9-abdd-94433f885584",
   "metadata": {},
   "source": [
    "And logic which chek this user is hacker(True) or not hacker(False)"
   ]
  },
  {
   "cell_type": "code",
   "execution_count": null,
   "id": "9411cc7b-54e2-4eb8-803c-afdf12bfe93a",
   "metadata": {},
   "outputs": [],
   "source": [
    "def is_hacker(user):\n",
    "    if not user.get_VPN:\n",
    "        return False\n",
    "    else:\n",
    "        if(user.get_amount_of_transactions < 500):\n",
    "            return False\n",
    "        else:\n",
    "            if(user.get_transactions_per_hour <= 3):\n",
    "                return False\n",
    "            else: \n",
    "                return True"
   ]
  },
  {
   "cell_type": "code",
   "execution_count": null,
   "id": "37ec0e7a",
   "metadata": {},
   "outputs": [],
   "source": [
    "user: User = users[0] \n",
    "print(is_hacker(user))"
   ]
  }
 ],
 "metadata": {
  "kernelspec": {
   "display_name": "Python 3 (ipykernel)",
   "language": "python",
   "name": "python3"
  },
  "language_info": {
   "codemirror_mode": {
    "name": "ipython",
    "version": 3
   },
   "file_extension": ".py",
   "mimetype": "text/x-python",
   "name": "python",
   "nbconvert_exporter": "python",
   "pygments_lexer": "ipython3",
   "version": "3.9.12"
  }
 },
 "nbformat": 4,
 "nbformat_minor": 5
}
